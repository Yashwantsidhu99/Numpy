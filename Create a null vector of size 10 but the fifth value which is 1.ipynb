{
 "cells": [
  {
   "cell_type": "code",
   "execution_count": null,
   "id": "6ec2797f",
   "metadata": {},
   "outputs": [],
   "source": [
    "# Create a null vector of size 10 but the fifth value which is 1\n",
    "a=np.zeros(10,dtype=int)\n",
    "print(a)\n",
    "a[4]=1\n",
    "a"
   ]
  }
 ],
 "metadata": {
  "kernelspec": {
   "display_name": "Python 3",
   "language": "python",
   "name": "python3"
  },
  "language_info": {
   "codemirror_mode": {
    "name": "ipython",
    "version": 3
   },
   "file_extension": ".py",
   "mimetype": "text/x-python",
   "name": "python",
   "nbconvert_exporter": "python",
   "pygments_lexer": "ipython3",
   "version": "3.8.8"
  }
 },
 "nbformat": 4,
 "nbformat_minor": 5
}
