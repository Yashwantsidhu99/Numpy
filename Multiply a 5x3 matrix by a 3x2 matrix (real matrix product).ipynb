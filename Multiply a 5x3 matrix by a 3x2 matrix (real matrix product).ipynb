{
 "cells": [
  {
   "cell_type": "code",
   "execution_count": null,
   "id": "8e61e62c",
   "metadata": {},
   "outputs": [],
   "source": [
    "# Multiply a 5x3 matrix by a 3x2 matrix (real matrix product) \n",
    "a=np.mat(np.array([[1,2,3],[4,5,6],[7,8,9],[10,11,12],[13,14,15]]))\n",
    "\n",
    "print(a)\n",
    "c=np.mat(np.array([[1,2],[4,5],[7,8]]))\n",
    "print(\"---------------------------\")\n",
    "print(c)\n",
    "q=a*c\n",
    "q\n"
   ]
  }
 ],
 "metadata": {
  "kernelspec": {
   "display_name": "Python 3",
   "language": "python",
   "name": "python3"
  },
  "language_info": {
   "codemirror_mode": {
    "name": "ipython",
    "version": 3
   },
   "file_extension": ".py",
   "mimetype": "text/x-python",
   "name": "python",
   "nbconvert_exporter": "python",
   "pygments_lexer": "ipython3",
   "version": "3.8.8"
  }
 },
 "nbformat": 4,
 "nbformat_minor": 5
}
