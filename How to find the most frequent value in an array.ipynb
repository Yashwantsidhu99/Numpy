{
 "cells": [
  {
   "cell_type": "code",
   "execution_count": null,
   "id": "6b9bc3bf",
   "metadata": {},
   "outputs": [],
   "source": [
    "# How to find the most frequent value in an array\n",
    "import statistics \n",
    "a=np.array([1,2,3,4,23,4,5,56,21,43])\n",
    "statistics.mode(a)"
   ]
  }
 ],
 "metadata": {
  "kernelspec": {
   "display_name": "Python 3",
   "language": "python",
   "name": "python3"
  },
  "language_info": {
   "codemirror_mode": {
    "name": "ipython",
    "version": 3
   },
   "file_extension": ".py",
   "mimetype": "text/x-python",
   "name": "python",
   "nbconvert_exporter": "python",
   "pygments_lexer": "ipython3",
   "version": "3.8.8"
  }
 },
 "nbformat": 4,
 "nbformat_minor": 5
}
