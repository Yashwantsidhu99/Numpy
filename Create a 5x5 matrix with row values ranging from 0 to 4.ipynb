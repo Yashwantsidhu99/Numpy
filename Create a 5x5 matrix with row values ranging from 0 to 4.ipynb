{
 "cells": [
  {
   "cell_type": "code",
   "execution_count": null,
   "id": "838da148",
   "metadata": {},
   "outputs": [],
   "source": [
    "# Create a 5x5 matrix with row values ranging from 0 to 4 \n",
    "a=np.zeros((5,5),dtype=int)\n",
    "a=a+np.arange(5,dtype=int)\n",
    "print(a)\n",
    "\n"
   ]
  }
 ],
 "metadata": {
  "kernelspec": {
   "display_name": "Python 3",
   "language": "python",
   "name": "python3"
  },
  "language_info": {
   "codemirror_mode": {
    "name": "ipython",
    "version": 3
   },
   "file_extension": ".py",
   "mimetype": "text/x-python",
   "name": "python",
   "nbconvert_exporter": "python",
   "pygments_lexer": "ipython3",
   "version": "3.8.8"
  }
 },
 "nbformat": 4,
 "nbformat_minor": 5
}
